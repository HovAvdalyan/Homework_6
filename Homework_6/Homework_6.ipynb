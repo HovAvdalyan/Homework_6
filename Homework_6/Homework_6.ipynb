{
 "cells": [
  {
   "cell_type": "code",
   "execution_count": 1,
   "metadata": {
    "collapsed": true
   },
   "outputs": [],
   "source": [
    "# EXC.1"
   ]
  },
  {
   "cell_type": "code",
   "execution_count": 2,
   "metadata": {
    "collapsed": true
   },
   "outputs": [],
   "source": [
    "import quandl"
   ]
  },
  {
   "cell_type": "code",
   "execution_count": 3,
   "metadata": {
    "collapsed": true
   },
   "outputs": [],
   "source": [
    "with open('C:\\Users\\Hovo\\Data_Scraping\\key.txt','r') as f:\n",
    "    key = f.read()"
   ]
  },
  {
   "cell_type": "code",
   "execution_count": 4,
   "metadata": {
    "collapsed": true
   },
   "outputs": [],
   "source": [
    "# I am using Net barter terms of trade index (2000 = 100)"
   ]
  },
  {
   "cell_type": "code",
   "execution_count": 5,
   "metadata": {
    "collapsed": true
   },
   "outputs": [],
   "source": [
    "data_arm = quandl.get('WWDI/ARM_TT_PRI_MRCH_XD_WD',authtoken=key)\n",
    "data_lux = quandl.get('WWDI/LUX_TT_PRI_MRCH_XD_WD',authtoken=key)"
   ]
  },
  {
   "cell_type": "code",
   "execution_count": 6,
   "metadata": {
    "collapsed": false
   },
   "outputs": [
    {
     "data": {
      "text/plain": [
       "[<matplotlib.lines.Line2D at 0x9640dd8>]"
      ]
     },
     "execution_count": 6,
     "metadata": {},
     "output_type": "execute_result"
    },
    {
     "data": {
      "image/png": "[encoded data removed]",
      "text/plain": [
       "<matplotlib.figure.Figure at 0x9f8fa90>"
      ]
     },
     "metadata": {},
     "output_type": "display_data"
    }
   ],
   "source": [
    "import matplotlib.pyplot as plt\n",
    "%matplotlib inline\n",
    "plt.plot(data_arm,\"-r\")\n",
    "plt.plot(data_lux,\"-b\")"
   ]
  },
  {
   "cell_type": "code",
   "execution_count": 7,
   "metadata": {
    "collapsed": true
   },
   "outputs": [],
   "source": [
    "# EXC.2"
   ]
  },
  {
   "cell_type": "code",
   "execution_count": 9,
   "metadata": {
    "collapsed": false
   },
   "outputs": [
    {
     "name": "stdout",
     "output_type": "stream",
     "text": [
      "The second highest value for Armenia is 126.017130093\n"
     ]
    }
   ],
   "source": [
    "print('The second highest value for Armenia is ' + str(data_arm.nlargest(2, \"Value\")['Value'][1]))"
   ]
  },
  {
   "cell_type": "code",
   "execution_count": 10,
   "metadata": {
    "collapsed": true
   },
   "outputs": [],
   "source": [
    "# EXC.3"
   ]
  },
  {
   "cell_type": "code",
   "execution_count": 11,
   "metadata": {
    "collapsed": false
   },
   "outputs": [
    {
     "data": {
      "text/plain": [
       "[<matplotlib.lines.Line2D at 0xb1ae828>]"
      ]
     },
     "execution_count": 11,
     "metadata": {},
     "output_type": "execute_result"
    },
    {
     "data": {
      "image/png": "[encoded data removed]",
      "text/plain": [
       "<matplotlib.figure.Figure at 0xa1ad668>"
      ]
     },
     "metadata": {},
     "output_type": "display_data"
    }
   ],
   "source": [
    "merch_export = quandl.get('WWDI/ARM_TX_VAL_MRCH_CD_WT',authtoken=key)\n",
    "merch_import = quandl.get('WWDI/ARM_TM_VAL_MRCH_CD_WT',authtoken=key)\n",
    "net_exports = merch_export - merch_import\n",
    "plt.plot(net_exports)"
   ]
  },
  {
   "cell_type": "code",
   "execution_count": 13,
   "metadata": {
    "collapsed": true
   },
   "outputs": [],
   "source": [
    "# EXC.4"
   ]
  },
  {
   "cell_type": "code",
   "execution_count": 14,
   "metadata": {
    "collapsed": true
   },
   "outputs": [],
   "source": [
    "home_depot=quandl.get('EOD/HD',authtoken=key)[\"Close\"]\n",
    "wallmart=quandl.get('EOD/WMT',authtoken=key)[\"Close\"]\n",
    "am_ex=quandl.get('EOD/AXP',authtoken=key)[\"Close\"]"
   ]
  },
  {
   "cell_type": "code",
   "execution_count": 36,
   "metadata": {
    "collapsed": true
   },
   "outputs": [],
   "source": [
    "import pandas as pd"
   ]
  },
  {
   "cell_type": "code",
   "execution_count": 45,
   "metadata": {
    "collapsed": false
   },
   "outputs": [
    {
     "data": {
      "text/html": [
       "<div>\n",
       "<table border=\"1\" class=\"dataframe\">\n",
       "  <thead>\n",
       "    <tr style=\"text-align: right;\">\n",
       "      <th></th>\n",
       "      <th>home_depot</th>\n",
       "      <th>wallmart</th>\n",
       "      <th>am_ex</th>\n",
       "    </tr>\n",
       "  </thead>\n",
       "  <tbody>\n",
       "    <tr>\n",
       "      <th>home_depot</th>\n",
       "      <td>1.000000</td>\n",
       "      <td>0.537810</td>\n",
       "      <td>0.459362</td>\n",
       "    </tr>\n",
       "    <tr>\n",
       "      <th>wallmart</th>\n",
       "      <td>0.537810</td>\n",
       "      <td>1.000000</td>\n",
       "      <td>0.483339</td>\n",
       "    </tr>\n",
       "    <tr>\n",
       "      <th>am_ex</th>\n",
       "      <td>0.459362</td>\n",
       "      <td>0.483339</td>\n",
       "      <td>1.000000</td>\n",
       "    </tr>\n",
       "  </tbody>\n",
       "</table>\n",
       "</div>"
      ],
      "text/plain": [
       "            home_depot  wallmart     am_ex\n",
       "home_depot    1.000000  0.537810  0.459362\n",
       "wallmart      0.537810  1.000000  0.483339\n",
       "am_ex         0.459362  0.483339  1.000000"
      ]
     },
     "execution_count": 45,
     "metadata": {},
     "output_type": "execute_result"
    }
   ],
   "source": [
    "df = pd.concat([home_depot, wallmart, am_ex], axis=1)\n",
    "df.columns = ['home_depot', 'wallmart', 'am_ex']\n",
    "df.corr()"
   ]
  },
  {
   "cell_type": "code",
   "execution_count": 46,
   "metadata": {
    "collapsed": true
   },
   "outputs": [],
   "source": [
    "# EXC.5"
   ]
  },
  {
   "cell_type": "code",
   "execution_count": 85,
   "metadata": {
    "collapsed": false
   },
   "outputs": [],
   "source": [
    "import googlemaps\n",
    "with open(\"google_key.txt\",\"r\") as f:\n",
    "    key=f.read()\n",
    "gmaps=googlemaps.Client(key)"
   ]
  },
  {
   "cell_type": "code",
   "execution_count": 86,
   "metadata": {
    "collapsed": true
   },
   "outputs": [],
   "source": [
    "my_cities = [\"Boston, MA\", \"Washington, DC\", \"Chicago, IL\", \"Sayreville, NJ\", \"Ocean City, MD\", \"Richmond, VA\", \"Delray Beach, FL\", \"Houston, TX\", \"Memphis, TN\", \"Los Angeles, CA\",]"
   ]
  },
  {
   "cell_type": "code",
   "execution_count": 88,
   "metadata": {
    "collapsed": false
   },
   "outputs": [
    {
     "name": "stdout",
     "output_type": "stream",
     "text": [
      "Boston, MA  349 km\n",
      "Washington, DC  362 km\n",
      "Chicago, IL  1,283 km\n",
      "Sayreville, NJ  55.0 km\n",
      "Ocean City, MD  380 km\n",
      "Richmond, VA  536 km\n",
      "Delray Beach, FL  1,980 km\n",
      "Houston, TX  2,627 km\n",
      "Memphis, TN  1,764 km\n",
      "Los Angeles, CA  4,501 km\n"
     ]
    }
   ],
   "source": [
    "city_dist=[]\n",
    "for city in my_cities:\n",
    "    directions=gmaps.directions(city, \"New York, NY\", units=\"metric\")\n",
    "    for i in directions:\n",
    "        legs = i[\"legs\"]\n",
    "        for j in legs:\n",
    "            city_dist.append(j[\"distance\"])\n",
    "for d in range(0,len(city_dist)):\n",
    "    print(my_cities[d]+\"  \"+city_dist[d][\"text\"])"
   ]
  },
  {
   "cell_type": "code",
   "execution_count": null,
   "metadata": {
    "collapsed": true
   },
   "outputs": [],
   "source": []
  }
 ],
 "metadata": {
  "kernelspec": {
   "display_name": "Python 2",
   "language": "python",
   "name": "python2"
  },
  "language_info": {
   "codemirror_mode": {
    "name": "ipython",
    "version": 2
   },
   "file_extension": ".py",
   "mimetype": "text/x-python",
   "name": "python",
   "nbconvert_exporter": "python",
   "pygments_lexer": "ipython2",
   "version": "2.7.13"
  }
 },
 "nbformat": 4,
 "nbformat_minor": 2
}
